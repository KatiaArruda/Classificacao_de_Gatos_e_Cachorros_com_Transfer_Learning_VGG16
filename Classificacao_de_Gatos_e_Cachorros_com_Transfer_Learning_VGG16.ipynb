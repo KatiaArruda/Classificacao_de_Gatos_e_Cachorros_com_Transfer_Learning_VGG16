{
  "nbformat": 4,
  "nbformat_minor": 0,
  "metadata": {
    "colab": {
      "provenance": [],
      "mount_file_id": "1qmQwiltSmZN9Y8a7RhNyrH48yQhZpbJE",
      "authorship_tag": "ABX9TyPSz5AiKwY4glf5Wt/4btg1",
      "include_colab_link": true
    },
    "kernelspec": {
      "name": "python3",
      "display_name": "Python 3"
    },
    "language_info": {
      "name": "python"
    }
  },
  "cells": [
    {
      "cell_type": "markdown",
      "metadata": {
        "id": "view-in-github",
        "colab_type": "text"
      },
      "source": [
        "<a href=\"https://colab.research.google.com/github/KatiaArruda/Classificacao_de_Gatos_e_Cachorros_com_Transfer_Learning_VGG16/blob/main/Classificacao_de_Gatos_e_Cachorros_com_Transfer_Learning_VGG16.ipynb\" target=\"_parent\"><img src=\"https://colab.research.google.com/assets/colab-badge.svg\" alt=\"Open In Colab\"/></a>"
      ]
    },
    {
      "cell_type": "code",
      "source": [
        "import os\n",
        "import random\n",
        "import numpy as np\n",
        "import matplotlib.pyplot as plt\n",
        "import tensorflow as tf\n",
        "from tensorflow import keras\n",
        "from tensorflow.keras.preprocessing.image import ImageDataGenerator, load_img, img_to_array\n",
        "from tensorflow.keras.applications import VGG16\n",
        "from tensorflow.keras.models import Model\n",
        "from tensorflow.keras.layers import Dense, Flatten\n",
        "from tensorflow.keras.utils import to_categorical"
      ],
      "metadata": {
        "id": "BqSF3pq2oOca"
      },
      "execution_count": 4,
      "outputs": []
    },
    {
      "cell_type": "code",
      "source": [
        "# Create list of images and labels (only 50 images per class)\n",
        "dataset_dir = '/content/drive/MyDrive/Colab Notebooks/Classificacao_de_Gatos_e_Cachorros_com_Transfer_Learning/PetImages'\n",
        "classes = ['Cat', 'Dog']  # Define as classes\n",
        "\n",
        "data = []\n",
        "for label, category in enumerate(classes):\n",
        "    category_path = os.path.join(dataset_dir, category)\n",
        "    if os.path.exists(category_path):\n",
        "        images = [os.path.join(category_path, f) for f in os.listdir(category_path) if f.endswith(\".jpg\")]\n",
        "        images = random.sample(images, min(len(images), 50))  # Select up to 50 random images\n",
        "        for img_path in images:\n",
        "            img = load_img(img_path, target_size=(224, 224))  # Resize to 224x224\n",
        "            img_array = img_to_array(img) / 255.0  # Normalize\n",
        "            data.append((img_array, label))\n",
        "    else:\n",
        "        print(f\"Error: Directory'{category_path}' not found.\")"
      ],
      "metadata": {
        "id": "yXy3NtkftnKH"
      },
      "execution_count": 5,
      "outputs": []
    },
    {
      "cell_type": "code",
      "source": [
        "# Shuffle the dice\n",
        "random.shuffle(data)"
      ],
      "metadata": {
        "id": "lNejwQqNvAtK"
      },
      "execution_count": 6,
      "outputs": []
    },
    {
      "cell_type": "code",
      "source": [
        "# Separate images and labels\n",
        "X, y = zip(*data)\n",
        "X = np.array(X)\n",
        "y = to_categorical(y, num_classes=2)  # Convert to one-hot encoding"
      ],
      "metadata": {
        "id": "XE-J1CDJvCSw"
      },
      "execution_count": 7,
      "outputs": []
    },
    {
      "cell_type": "code",
      "source": [
        "# Split into training (70%), validation (15%) and test (15%)\n",
        "split_train = int(0.7 * len(X))\n",
        "split_val = int(0.85 * len(X))\n",
        "\n",
        "X_train, y_train = X[:split_train], y[:split_train]\n",
        "X_val, y_val = X[split_train:split_val], y[split_train:split_val]\n",
        "X_test, y_test = X[split_val:], y[split_val:]\n",
        "\n",
        "print(f\"Training: {len(X_train)} | Validation: {len(X_val)} | Test: {len(X_test)}\")"
      ],
      "metadata": {
        "colab": {
          "base_uri": "https://localhost:8080/"
        },
        "id": "17vNYZP9vF1g",
        "outputId": "dfe9ec7f-0ed3-4226-f8d9-f5476871f9fc"
      },
      "execution_count": 8,
      "outputs": [
        {
          "output_type": "stream",
          "name": "stdout",
          "text": [
            "Training: 70 | Validation: 15 | Test: 15\n"
          ]
        }
      ]
    },
    {
      "cell_type": "code",
      "source": [
        "# Load the pre-trained VGG16 model\n",
        "base_model = VGG16(weights=\"imagenet\", include_top=False, input_shape=(224, 224, 3))"
      ],
      "metadata": {
        "colab": {
          "base_uri": "https://localhost:8080/"
        },
        "id": "RhAelZ7zvNMp",
        "outputId": "f3b92923-24d3-43f5-ca25-8a3fa1cd0251"
      },
      "execution_count": 9,
      "outputs": [
        {
          "output_type": "stream",
          "name": "stdout",
          "text": [
            "Downloading data from https://storage.googleapis.com/tensorflow/keras-applications/vgg16/vgg16_weights_tf_dim_ordering_tf_kernels_notop.h5\n",
            "\u001b[1m58889256/58889256\u001b[0m \u001b[32m━━━━━━━━━━━━━━━━━━━━\u001b[0m\u001b[37m\u001b[0m \u001b[1m0s\u001b[0m 0us/step\n"
          ]
        }
      ]
    },
    {
      "cell_type": "code",
      "source": [
        "# Freeze the original model layers\n",
        "for layer in base_model.layers:\n",
        "    layer.trainable = False"
      ],
      "metadata": {
        "id": "wkBq0wOxviWH"
      },
      "execution_count": 10,
      "outputs": []
    },
    {
      "cell_type": "code",
      "source": [
        "# Add custom layers to the new task\n",
        "x = Flatten()(base_model.output)\n",
        "x = Dense(128, activation=\"relu\")(x)\n",
        "x = Dense(2, activation=\"softmax\")(x)  #Two classes: cats and dogs"
      ],
      "metadata": {
        "id": "2GRu0qAsvmv_"
      },
      "execution_count": 11,
      "outputs": []
    },
    {
      "cell_type": "code",
      "source": [
        "# Create the new model\n",
        "model = Model(inputs=base_model.input, outputs=x)"
      ],
      "metadata": {
        "id": "t__blQzovrVa"
      },
      "execution_count": 12,
      "outputs": []
    },
    {
      "cell_type": "code",
      "source": [
        "# Compile the model\n",
        "model.compile(loss=\"categorical_crossentropy\", optimizer=\"adam\", metrics=[\"accuracy\"])"
      ],
      "metadata": {
        "id": "wiq-mB3xvysg"
      },
      "execution_count": 13,
      "outputs": []
    },
    {
      "cell_type": "code",
      "source": [
        "# Train the model\n",
        "history = model.fit(X_train, y_train, batch_size=16, epochs=10, validation_data=(X_val, y_val))"
      ],
      "metadata": {
        "id": "k5YbApFev3o3",
        "colab": {
          "base_uri": "https://localhost:8080/"
        },
        "outputId": "6cf76925-7e5f-4a5c-e186-bf9a9d2a24f2"
      },
      "execution_count": 14,
      "outputs": [
        {
          "output_type": "stream",
          "name": "stdout",
          "text": [
            "Epoch 1/10\n",
            "\u001b[1m5/5\u001b[0m \u001b[32m━━━━━━━━━━━━━━━━━━━━\u001b[0m\u001b[37m\u001b[0m \u001b[1m49s\u001b[0m 10s/step - accuracy: 0.4896 - loss: 2.2651 - val_accuracy: 0.5333 - val_loss: 0.7482\n",
            "Epoch 2/10\n",
            "\u001b[1m5/5\u001b[0m \u001b[32m━━━━━━━━━━━━━━━━━━━━\u001b[0m\u001b[37m\u001b[0m \u001b[1m81s\u001b[0m 9s/step - accuracy: 0.8720 - loss: 0.2024 - val_accuracy: 0.6667 - val_loss: 0.9572\n",
            "Epoch 3/10\n",
            "\u001b[1m5/5\u001b[0m \u001b[32m━━━━━━━━━━━━━━━━━━━━\u001b[0m\u001b[37m\u001b[0m \u001b[1m82s\u001b[0m 9s/step - accuracy: 1.0000 - loss: 0.0256 - val_accuracy: 0.7333 - val_loss: 0.8516\n",
            "Epoch 4/10\n",
            "\u001b[1m5/5\u001b[0m \u001b[32m━━━━━━━━━━━━━━━━━━━━\u001b[0m\u001b[37m\u001b[0m \u001b[1m80s\u001b[0m 9s/step - accuracy: 1.0000 - loss: 0.0067 - val_accuracy: 0.6000 - val_loss: 0.8039\n",
            "Epoch 5/10\n",
            "\u001b[1m5/5\u001b[0m \u001b[32m━━━━━━━━━━━━━━━━━━━━\u001b[0m\u001b[37m\u001b[0m \u001b[1m84s\u001b[0m 10s/step - accuracy: 1.0000 - loss: 0.0041 - val_accuracy: 0.6000 - val_loss: 0.8328\n",
            "Epoch 6/10\n",
            "\u001b[1m5/5\u001b[0m \u001b[32m━━━━━━━━━━━━━━━━━━━━\u001b[0m\u001b[37m\u001b[0m \u001b[1m88s\u001b[0m 11s/step - accuracy: 1.0000 - loss: 0.0032 - val_accuracy: 0.7333 - val_loss: 1.2425\n",
            "Epoch 7/10\n",
            "\u001b[1m5/5\u001b[0m \u001b[32m━━━━━━━━━━━━━━━━━━━━\u001b[0m\u001b[37m\u001b[0m \u001b[1m46s\u001b[0m 10s/step - accuracy: 1.0000 - loss: 0.0014 - val_accuracy: 0.6667 - val_loss: 1.6356\n",
            "Epoch 8/10\n",
            "\u001b[1m5/5\u001b[0m \u001b[32m━━━━━━━━━━━━━━━━━━━━\u001b[0m\u001b[37m\u001b[0m \u001b[1m82s\u001b[0m 10s/step - accuracy: 1.0000 - loss: 0.0020 - val_accuracy: 0.6667 - val_loss: 1.6333\n",
            "Epoch 9/10\n",
            "\u001b[1m5/5\u001b[0m \u001b[32m━━━━━━━━━━━━━━━━━━━━\u001b[0m\u001b[37m\u001b[0m \u001b[1m45s\u001b[0m 10s/step - accuracy: 1.0000 - loss: 8.4690e-04 - val_accuracy: 0.8000 - val_loss: 1.3168\n",
            "Epoch 10/10\n",
            "\u001b[1m5/5\u001b[0m \u001b[32m━━━━━━━━━━━━━━━━━━━━\u001b[0m\u001b[37m\u001b[0m \u001b[1m92s\u001b[0m 12s/step - accuracy: 1.0000 - loss: 1.6749e-04 - val_accuracy: 0.7333 - val_loss: 1.1390\n"
          ]
        }
      ]
    },
    {
      "cell_type": "code",
      "source": [
        "# Evaluate on the test set\n",
        "loss, accuracy = model.evaluate(X_test, y_test)\n",
        "print(f\"Test Accuracy: {accuracy:.2f}\")"
      ],
      "metadata": {
        "id": "fec9YyF-y7ST",
        "colab": {
          "base_uri": "https://localhost:8080/"
        },
        "outputId": "cbf20538-32f0-494b-d7ae-0e4552e2bb14"
      },
      "execution_count": 15,
      "outputs": [
        {
          "output_type": "stream",
          "name": "stdout",
          "text": [
            "\u001b[1m1/1\u001b[0m \u001b[32m━━━━━━━━━━━━━━━━━━━━\u001b[0m\u001b[37m\u001b[0m \u001b[1m7s\u001b[0m 7s/step - accuracy: 1.0000 - loss: 0.0528\n",
            "Test Accuracy: 1.00\n"
          ]
        }
      ]
    },
    {
      "cell_type": "code",
      "source": [
        "# Plot training history\n",
        "plt.plot(history.history[\"val_accuracy\"], label=\"Validation Accuracy\")\n",
        "plt.plot(history.history[\"accuracy\"], label=\"Training Accuracy\")\n",
        "plt.xlabel(\"Epochs\")\n",
        "plt.ylabel(\"Accuracy\")\n",
        "plt.legend()\n",
        "plt.show()"
      ],
      "metadata": {
        "colab": {
          "base_uri": "https://localhost:8080/",
          "height": 449
        },
        "id": "PJD5QCXozRK5",
        "outputId": "99088032-5e65-476f-fd69-1c7d048739be"
      },
      "execution_count": 16,
      "outputs": [
        {
          "output_type": "display_data",
          "data": {
            "text/plain": [
              "<Figure size 640x480 with 1 Axes>"
            ],
            "image/png": "[encoded data removed]"
          },
          "metadata": {}
        }
      ]
    }
  ]
}